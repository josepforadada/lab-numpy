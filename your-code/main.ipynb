{
 "cells": [
  {
   "cell_type": "markdown",
   "metadata": {},
   "source": [
    "# Intrduction to NumPy\n",
    "\n",
    "\n",
    "#### 1. Import NumPy under the name np."
   ]
  },
  {
   "cell_type": "code",
   "execution_count": 1,
   "metadata": {},
   "outputs": [],
   "source": [
    "# your code here\n",
    "import numpy as np"
   ]
  },
  {
   "cell_type": "markdown",
   "metadata": {},
   "source": [
    "#### 2. Print your NumPy version."
   ]
  },
  {
   "cell_type": "code",
   "execution_count": 2,
   "metadata": {},
   "outputs": [
    {
     "data": {
      "text/plain": [
       "'1.16.4'"
      ]
     },
     "execution_count": 2,
     "metadata": {},
     "output_type": "execute_result"
    }
   ],
   "source": [
    "# your code here\n",
    "np.__version__"
   ]
  },
  {
   "cell_type": "markdown",
   "metadata": {},
   "source": [
    "#### 3. Generate a 2x3x5 3-dimensional array with random values. Assign the array to variable *a*.\n",
    "**Challenge**: there are at least three easy ways that use numpy to generate random arrays. How many ways can you find?"
   ]
  },
  {
   "cell_type": "code",
   "execution_count": 3,
   "metadata": {},
   "outputs": [
    {
     "name": "stdout",
     "output_type": "stream",
     "text": [
      "<class 'numpy.ndarray'>\n",
      "[[[6 1 7 4 1]\n",
      "  [7 2 6 3 4]\n",
      "  [8 9 9 6 1]]\n",
      "\n",
      " [[8 6 0 7 9]\n",
      "  [0 1 9 7 0]\n",
      "  [4 7 1 6 4]]]\n"
     ]
    }
   ],
   "source": [
    "# Method 1\n",
    "a = np.random.randint(10, size=(2,3,5))\n",
    "print(type(a))\n",
    "print(a)"
   ]
  },
  {
   "cell_type": "code",
   "execution_count": 4,
   "metadata": {
    "scrolled": true
   },
   "outputs": [
    {
     "name": "stdout",
     "output_type": "stream",
     "text": [
      "[[[6 1 7 4 1]\n",
      "  [7 2 6 3 4]\n",
      "  [8 9 9 6 1]]\n",
      "\n",
      " [[8 6 0 7 9]\n",
      "  [0 1 9 7 0]\n",
      "  [4 7 1 6 4]]]\n"
     ]
    }
   ],
   "source": [
    "# Method 2\n",
    "\n",
    "a1 = np.empty((2,3,5))\n",
    "print(a)"
   ]
  },
  {
   "cell_type": "code",
   "execution_count": 5,
   "metadata": {},
   "outputs": [
    {
     "name": "stdout",
     "output_type": "stream",
     "text": [
      "[[[0.54802944 0.38060594 0.86736101 0.68565186 0.08328059]\n",
      "  [0.28695087 0.44051288 0.12040162 0.7953713  0.01588011]\n",
      "  [0.4243599  0.33525653 0.68737357 0.4017494  0.88542383]]\n",
      "\n",
      " [[0.14029983 0.38686998 0.82438368 0.56106171 0.65518029]\n",
      "  [0.09136165 0.9109143  0.44327246 0.3020712  0.82368887]\n",
      "  [0.42090098 0.57786243 0.87123634 0.02689258 0.34488775]]]\n"
     ]
    }
   ],
   "source": [
    "# Method 3\n",
    "print(np.random.rand(2,3,5))"
   ]
  },
  {
   "cell_type": "markdown",
   "metadata": {},
   "source": [
    "#### 4. Print *a*.\n"
   ]
  },
  {
   "cell_type": "code",
   "execution_count": 6,
   "metadata": {},
   "outputs": [
    {
     "name": "stdout",
     "output_type": "stream",
     "text": [
      "[[[6 1 7 4 1]\n",
      "  [7 2 6 3 4]\n",
      "  [8 9 9 6 1]]\n",
      "\n",
      " [[8 6 0 7 9]\n",
      "  [0 1 9 7 0]\n",
      "  [4 7 1 6 4]]]\n"
     ]
    }
   ],
   "source": [
    "# your code here\n",
    "print(a)"
   ]
  },
  {
   "cell_type": "markdown",
   "metadata": {},
   "source": [
    "#### 5. Create a 5x2x3 3-dimensional array with all values equaling 1. Assign the array to variable *b*."
   ]
  },
  {
   "cell_type": "code",
   "execution_count": 7,
   "metadata": {},
   "outputs": [],
   "source": [
    "# your code here\n",
    "b = np.ones((5,2,3))"
   ]
  },
  {
   "cell_type": "markdown",
   "metadata": {},
   "source": [
    "#### 6. Print *b*.\n"
   ]
  },
  {
   "cell_type": "code",
   "execution_count": 8,
   "metadata": {},
   "outputs": [
    {
     "name": "stdout",
     "output_type": "stream",
     "text": [
      "[[[1. 1. 1.]\n",
      "  [1. 1. 1.]]\n",
      "\n",
      " [[1. 1. 1.]\n",
      "  [1. 1. 1.]]\n",
      "\n",
      " [[1. 1. 1.]\n",
      "  [1. 1. 1.]]\n",
      "\n",
      " [[1. 1. 1.]\n",
      "  [1. 1. 1.]]\n",
      "\n",
      " [[1. 1. 1.]\n",
      "  [1. 1. 1.]]]\n",
      "(5, 2, 3)\n"
     ]
    }
   ],
   "source": [
    "# your code here\n",
    "print(b)\n",
    "print(b.shape)"
   ]
  },
  {
   "cell_type": "markdown",
   "metadata": {},
   "source": [
    "#### 7. Do *a* and *b* have the same size? How do you prove that in Python code?"
   ]
  },
  {
   "cell_type": "code",
   "execution_count": 9,
   "metadata": {},
   "outputs": [
    {
     "name": "stdout",
     "output_type": "stream",
     "text": [
      "Not equal\n"
     ]
    }
   ],
   "source": [
    "# your code here\n",
    "if a.shape != b.shape:\n",
    "    print('Not equal')"
   ]
  },
  {
   "cell_type": "markdown",
   "metadata": {},
   "source": [
    "#### 8. Are you able to add *a* and *b*? Why or why not?\n"
   ]
  },
  {
   "cell_type": "code",
   "execution_count": 10,
   "metadata": {},
   "outputs": [
    {
     "name": "stdout",
     "output_type": "stream",
     "text": [
      "We cannot add arrays with diferent sizes\n"
     ]
    }
   ],
   "source": [
    "# your answer here\n",
    "'''print(a + b)'''\n",
    "\n",
    "print(\"We cannot add arrays with diferent sizes\")"
   ]
  },
  {
   "cell_type": "markdown",
   "metadata": {},
   "source": [
    "#### 9. Transpose *b* so that it has the same structure of *a* (i.e. become a 2x3x5 array). Assign the transposed array to variable *c*."
   ]
  },
  {
   "cell_type": "code",
   "execution_count": 11,
   "metadata": {},
   "outputs": [
    {
     "name": "stdout",
     "output_type": "stream",
     "text": [
      "[[[1. 1. 1. 1. 1.]\n",
      "  [1. 1. 1. 1. 1.]\n",
      "  [1. 1. 1. 1. 1.]]\n",
      "\n",
      " [[1. 1. 1. 1. 1.]\n",
      "  [1. 1. 1. 1. 1.]\n",
      "  [1. 1. 1. 1. 1.]]]\n"
     ]
    }
   ],
   "source": [
    "# your code here\n",
    "c = np.reshape(b,(2,3,5))\n",
    "print(c)"
   ]
  },
  {
   "cell_type": "markdown",
   "metadata": {},
   "source": [
    "#### 10. Try to add *a* and *c*. Now it should work. Assign the sum to variable *d*. But why does it work now?"
   ]
  },
  {
   "cell_type": "code",
   "execution_count": 12,
   "metadata": {},
   "outputs": [
    {
     "name": "stdout",
     "output_type": "stream",
     "text": [
      "[[[ 7.  2.  8.  5.  2.]\n",
      "  [ 8.  3.  7.  4.  5.]\n",
      "  [ 9. 10. 10.  7.  2.]]\n",
      "\n",
      " [[ 9.  7.  1.  8. 10.]\n",
      "  [ 1.  2. 10.  8.  1.]\n",
      "  [ 5.  8.  2.  7.  5.]]]\n"
     ]
    }
   ],
   "source": [
    "# your code/answer here\n",
    "d = a + c\n",
    "print(d)"
   ]
  },
  {
   "cell_type": "markdown",
   "metadata": {},
   "source": [
    "#### 11. Print *a* and *d*. Notice the difference and relation of the two array in terms of the values? Explain."
   ]
  },
  {
   "cell_type": "code",
   "execution_count": 13,
   "metadata": {},
   "outputs": [
    {
     "name": "stdout",
     "output_type": "stream",
     "text": [
      "[[[6 1 7 4 1]\n",
      "  [7 2 6 3 4]\n",
      "  [8 9 9 6 1]]\n",
      "\n",
      " [[8 6 0 7 9]\n",
      "  [0 1 9 7 0]\n",
      "  [4 7 1 6 4]]]\n",
      "[[[ 7.  2.  8.  5.  2.]\n",
      "  [ 8.  3.  7.  4.  5.]\n",
      "  [ 9. 10. 10.  7.  2.]]\n",
      "\n",
      " [[ 9.  7.  1.  8. 10.]\n",
      "  [ 1.  2. 10.  8.  1.]\n",
      "  [ 5.  8.  2.  7.  5.]]]\n",
      "We added 1 to all cells\n"
     ]
    }
   ],
   "source": [
    "# your code/answer here\n",
    "print(a)\n",
    "print(d)\n",
    "print(\"We added 1 to all cells\")"
   ]
  },
  {
   "cell_type": "markdown",
   "metadata": {},
   "source": [
    "#### 12. Multiply *a* and *c*. Assign the result to *e*."
   ]
  },
  {
   "cell_type": "code",
   "execution_count": 14,
   "metadata": {},
   "outputs": [
    {
     "name": "stdout",
     "output_type": "stream",
     "text": [
      "[[[6. 1. 7. 4. 1.]\n",
      "  [7. 2. 6. 3. 4.]\n",
      "  [8. 9. 9. 6. 1.]]\n",
      "\n",
      " [[8. 6. 0. 7. 9.]\n",
      "  [0. 1. 9. 7. 0.]\n",
      "  [4. 7. 1. 6. 4.]]]\n"
     ]
    }
   ],
   "source": [
    "# your code here\n",
    "e = a * c\n",
    "print(e)"
   ]
  },
  {
   "cell_type": "markdown",
   "metadata": {},
   "source": [
    "#### 13. Does *e* equal to *a*? Why or why not?\n"
   ]
  },
  {
   "cell_type": "code",
   "execution_count": 15,
   "metadata": {},
   "outputs": [
    {
     "name": "stdout",
     "output_type": "stream",
     "text": [
      "All values are equal because we multiply all cells * 1\n"
     ]
    }
   ],
   "source": [
    "# your code/answer here\n",
    "if e.all() == a.all():\n",
    "    print('All values are equal because we multiply all cells * 1')\n",
    "else:\n",
    "    print('WTF')"
   ]
  },
  {
   "cell_type": "markdown",
   "metadata": {},
   "source": [
    "#### 14. Identify the max, min, and mean values in *d*. Assign those values to variables *d_max*, *d_min* and *d_mean*."
   ]
  },
  {
   "cell_type": "code",
   "execution_count": 16,
   "metadata": {},
   "outputs": [
    {
     "name": "stdout",
     "output_type": "stream",
     "text": [
      "10.0\n",
      "1.0\n",
      "5.766666666666667\n"
     ]
    }
   ],
   "source": [
    "# your code here\n",
    "d_max = np.max(d) # is the same as d.max()\n",
    "print(d_max)\n",
    "d_min = d.min() # is the same as np.min(d)\n",
    "print(d_min)\n",
    "d_mean = d.mean() # is the same as np.mean(d)\n",
    "print(d_mean)"
   ]
  },
  {
   "cell_type": "markdown",
   "metadata": {},
   "source": [
    "#### 15. Now we want to label the values in *d*. First create an empty array *f* with the same shape (i.e. 2x3x5) as *d* using `np.empty`.\n"
   ]
  },
  {
   "cell_type": "code",
   "execution_count": 17,
   "metadata": {},
   "outputs": [
    {
     "name": "stdout",
     "output_type": "stream",
     "text": [
      "[[[6. 1. 7. 4. 1.]\n",
      "  [7. 2. 6. 3. 4.]\n",
      "  [8. 9. 9. 6. 1.]]\n",
      "\n",
      " [[8. 6. 0. 7. 9.]\n",
      "  [0. 1. 9. 7. 0.]\n",
      "  [4. 7. 1. 6. 4.]]]\n",
      "[[[ 7.  2.  8.  5.  2.]\n",
      "  [ 8.  3.  7.  4.  5.]\n",
      "  [ 9. 10. 10.  7.  2.]]\n",
      "\n",
      " [[ 9.  7.  1.  8. 10.]\n",
      "  [ 1.  2. 10.  8.  1.]\n",
      "  [ 5.  8.  2.  7.  5.]]]\n"
     ]
    }
   ],
   "source": [
    "# your code here\n",
    "f = np.empty((2,3,5))\n",
    "g = np.empty((2,3,5))\n",
    "print(f)\n",
    "print(g)\n"
   ]
  },
  {
   "cell_type": "markdown",
   "metadata": {},
   "source": [
    "#### 16. Populate the values in *f*. \n",
    "\n",
    "For each value in *d*, if it's larger than *d_min* but smaller than *d_mean*, assign 25 to the corresponding value in *f*. If a value in *d* is larger than *d_mean* but smaller than *d_max*, assign 75 to the corresponding value in *f*. If a value equals to *d_mean*, assign 50 to the corresponding value in *f*. Assign 0 to the corresponding value(s) in *f* for *d_min* in *d*. Assign 100 to the corresponding value(s) in *f* for *d_max* in *d*. In the end, f should have only the following values: 0, 25, 50, 75, and 100.\n",
    "\n",
    "**Note**: you don't have to use Numpy in this question."
   ]
  },
  {
   "cell_type": "code",
   "execution_count": 18,
   "metadata": {},
   "outputs": [
    {
     "name": "stdout",
     "output_type": "stream",
     "text": [
      "[[[75.  0. 75. 25.  0.]\n",
      "  [75. 25. 75. 25. 25.]\n",
      "  [75. 75. 75. 75.  0.]]\n",
      "\n",
      " [[75. 75.  0. 75. 75.]\n",
      "  [ 0.  0. 75. 75.  0.]\n",
      "  [25. 75.  0. 75. 25.]]]\n"
     ]
    }
   ],
   "source": [
    "# your code here\n",
    "coordinates = (np.argwhere((f>d_min)*(f<d_mean)))\n",
    "coordinates2 = (np.argwhere((f>d_mean)*(f<d_max)))\n",
    "coordinates3 = (np.argwhere(f == d_mean))\n",
    "coordinates4 = (np.argwhere(f == d_min))\n",
    "coordinates5 = (np.argwhere(f == d_max))\n",
    "for val in coordinates:\n",
    "    f[val[0],val[1],val[2]] = 25\n",
    "for val in coordinates2:\n",
    "    f[val[0],val[1],val[2]] = 75\n",
    "for val in coordinates3:\n",
    "    f[val[0],val[1],val[2]] = 50\n",
    "for val in coordinates4:\n",
    "    f[val[0],val[1],val[2]] = 0\n",
    "for val in coordinates5:\n",
    "    f[val[0],val[1],val[2]] = 100    \n",
    "print(f)\n",
    "\n",
    "# other solution\n"
   ]
  },
  {
   "cell_type": "markdown",
   "metadata": {},
   "source": [
    "#### 17. Print *d* and *f*. Do you have your expected *f*?\n",
    "For instance, if your *d* is:\n",
    "```python\n",
    "[[[1.85836099, 1.67064465, 1.62576044, 1.40243961, 1.88454931],\n",
    "[1.75354326, 1.69403643, 1.36729252, 1.61415071, 1.12104981],\n",
    "[1.72201435, 1.1862918 , 1.87078449, 1.7726778 , 1.88180042]],\n",
    "[[1.44747908, 1.31673383, 1.02000951, 1.52218947, 1.97066381],\n",
    "[1.79129243, 1.74983003, 1.96028037, 1.85166831, 1.65450881],\n",
    "[1.18068344, 1.9587381 , 1.00656599, 1.93402165, 1.73514584]]]\n",
    "```\n",
    "Your *f* should be:\n",
    "```python\n",
    "[[[ 75.,  75.,  75.,  25.,  75.],\n",
    "[ 75.,  75.,  25.,  25.,  25.],\n",
    "[ 75.,  25.,  75.,  75.,  75.]],\n",
    "[[ 25.,  25.,  25.,  25., 100.],\n",
    "[ 75.,  75.,  75.,  75.,  75.],\n",
    "[ 25.,  75.,   0.,  75.,  75.]]]\n",
    "```"
   ]
  },
  {
   "cell_type": "code",
   "execution_count": 19,
   "metadata": {},
   "outputs": [
    {
     "name": "stdout",
     "output_type": "stream",
     "text": [
      "[[[ 7.  2.  8.  5.  2.]\n",
      "  [ 8.  3.  7.  4.  5.]\n",
      "  [ 9. 10. 10.  7.  2.]]\n",
      "\n",
      " [[ 9.  7.  1.  8. 10.]\n",
      "  [ 1.  2. 10.  8.  1.]\n",
      "  [ 5.  8.  2.  7.  5.]]]\n",
      "[[[75.  0. 75. 25.  0.]\n",
      "  [75. 25. 75. 25. 25.]\n",
      "  [75. 75. 75. 75.  0.]]\n",
      "\n",
      " [[75. 75.  0. 75. 75.]\n",
      "  [ 0.  0. 75. 75.  0.]\n",
      "  [25. 75.  0. 75. 25.]]]\n"
     ]
    }
   ],
   "source": [
    "# your code here\n",
    "print(d)\n",
    "print(f)"
   ]
  },
  {
   "cell_type": "markdown",
   "metadata": {},
   "source": [
    "#### 18. Bonus question: instead of using numbers (i.e. 0, 25, 50, 75, and 100), use string values  (\"A\", \"B\", \"C\", \"D\", and \"E\") to label the array elements. For the example above, the expected result is:\n",
    "\n",
    "```python\n",
    "[[[ 'D',  'D',  'D',  'B',  'D'],\n",
    "[ 'D',  'D',  'B',  'B',  'B'],\n",
    "[ 'D',  'B',  'D',  'D',  'D']],\n",
    "[[ 'B',  'B',  'B',  'B',  'E'],\n",
    "[ 'D',  'D',  'D',  'D',  'D'],\n",
    "[ 'B',  'D',   'A',  'D', 'D']]]\n",
    "```\n",
    "**Note**: you don't have to use Numpy in this question."
   ]
  },
  {
   "cell_type": "code",
   "execution_count": 20,
   "metadata": {},
   "outputs": [
    {
     "name": "stdout",
     "output_type": "stream",
     "text": [
      "[[[ 75.  25.  75.  25.  25.]\n",
      "  [ 75.  25.  75.  25.  25.]\n",
      "  [ 75. 100. 100.  75.  25.]]\n",
      "\n",
      " [[ 75.  75.   0.  75. 100.]\n",
      "  [  0.  25. 100.  75.   0.]\n",
      "  [ 25.  75.  25.  75.  25.]]]\n",
      "[[[ 75.  25.  75.  25.  25.]\n",
      "  [ 75.  25.  75.  25.  25.]\n",
      "  [ 75. 100. 100.  75.  25.]]\n",
      "\n",
      " [[ 75.  75.   0.  75. 100.]\n",
      "  [  0.  25. 100.  75.   0.]\n",
      "  [ 25.  75.  25.  75.  25.]]]\n",
      "[[[ D.  B.  D.  B.  B.]\n",
      "  [ D.  B.  D.  B.  B.]\n",
      "  [ D. E. E.  D.  B.]]\n",
      "\n",
      " [[ D.  D.   A.  D. E.]\n",
      "  [  A.  B. E.  D.   A.]\n",
      "  [ B.  D.  B.  D.  B.]]]\n"
     ]
    }
   ],
   "source": [
    "# yourcoordinates = (np.argwhere((f>d_min)*(f<d_mean)))\n",
    "g[(g>d_min)*(g<d_mean)] = 25\n",
    "g[(g>d_mean)*(g<d_max)] = 75\n",
    "g[g == d_mean] = 50\n",
    "g[g == d_min] = 0\n",
    "g[g == d_max] = 100\n",
    "print(g)\n",
    "g = np.array2string(g)\n",
    "print(g)\n",
    "g = g.replace(\"100\", \"E\") # order is important, starting with 0 then 100 is replaced to 1AA\n",
    "g = g.replace(\"50\", \"C\")\n",
    "g = g.replace(\"0\", \"A\")\n",
    "g = g.replace(\"25\", \"B\")\n",
    "g = g.replace(\"75\", \"D\")\n",
    "print(g)"
   ]
  },
  {
   "cell_type": "code",
   "execution_count": null,
   "metadata": {},
   "outputs": [],
   "source": []
  }
 ],
 "metadata": {
  "kernelspec": {
   "display_name": "Python 3",
   "language": "python",
   "name": "python3"
  },
  "language_info": {
   "codemirror_mode": {
    "name": "ipython",
    "version": 3
   },
   "file_extension": ".py",
   "mimetype": "text/x-python",
   "name": "python",
   "nbconvert_exporter": "python",
   "pygments_lexer": "ipython3",
   "version": "3.6.8"
  }
 },
 "nbformat": 4,
 "nbformat_minor": 2
}
